{
  "nbformat": 4,
  "nbformat_minor": 0,
  "metadata": {
    "colab": {
      "provenance": [],
      "collapsed_sections": [],
      "authorship_tag": "ABX9TyO6Y3MhmfFCT7RhR7Vsowke",
      "include_colab_link": true
    },
    "kernelspec": {
      "name": "python3",
      "display_name": "Python 3"
    },
    "language_info": {
      "name": "python"
    }
  },
  "cells": [
    {
      "cell_type": "markdown",
      "metadata": {
        "id": "view-in-github",
        "colab_type": "text"
      },
      "source": [
        "<a href=\"https://colab.research.google.com/github/Vardhan-Petrophysicist/Bots-Manage-your-Stock-Portfolio/blob/main/Bots_Manage_your_Stock_Portfolio.ipynb\" target=\"_parent\"><img src=\"https://colab.research.google.com/assets/colab-badge.svg\" alt=\"Open In Colab\"/></a>"
      ]
    },
    {
      "cell_type": "code",
      "execution_count": 3,
      "metadata": {
        "colab": {
          "base_uri": "https://localhost:8080/"
        },
        "id": "o7QNhhgQe_jv",
        "outputId": "479d4c11-fbbb-4865-95ed-8bd843bb61ac"
      },
      "outputs": [
        {
          "output_type": "stream",
          "name": "stdout",
          "text": [
            "Looking in indexes: https://pypi.org/simple, https://us-python.pkg.dev/colab-wheels/public/simple/\n",
            "Collecting telethon\n",
            "  Downloading Telethon-1.25.2-py3-none-any.whl (569 kB)\n",
            "\u001b[K     |████████████████████████████████| 569 kB 5.3 MB/s \n",
            "\u001b[?25hCollecting pyaes\n",
            "  Downloading pyaes-1.6.1.tar.gz (28 kB)\n",
            "Requirement already satisfied: rsa in /usr/local/lib/python3.7/dist-packages (from telethon) (4.9)\n",
            "Requirement already satisfied: pyasn1>=0.1.3 in /usr/local/lib/python3.7/dist-packages (from rsa->telethon) (0.4.8)\n",
            "Building wheels for collected packages: pyaes\n",
            "  Building wheel for pyaes (setup.py) ... \u001b[?25l\u001b[?25hdone\n",
            "  Created wheel for pyaes: filename=pyaes-1.6.1-py3-none-any.whl size=26363 sha256=3a4101955dd512bd0b3d3d00a2c10cc4bd94674b38cf7d583bbc0608d3dc46ec\n",
            "  Stored in directory: /root/.cache/pip/wheels/42/a3/7d/73d60820adb58d818179cdec3fc1be66f6f7453513a3ff0b05\n",
            "Successfully built pyaes\n",
            "Installing collected packages: pyaes, telethon\n",
            "Successfully installed pyaes-1.6.1 telethon-1.25.2\n"
          ]
        }
      ],
      "source": [
        "pip install telethon"
      ]
    },
    {
      "cell_type": "code",
      "source": [
        "pip install yfinance\n"
      ],
      "metadata": {
        "id": "yQZ6DfGqfVGU",
        "colab": {
          "base_uri": "https://localhost:8080/"
        },
        "outputId": "89a2e655-49de-4125-f443-6af286c3342a"
      },
      "execution_count": 4,
      "outputs": [
        {
          "output_type": "stream",
          "name": "stdout",
          "text": [
            "Looking in indexes: https://pypi.org/simple, https://us-python.pkg.dev/colab-wheels/public/simple/\n",
            "Collecting yfinance\n",
            "  Downloading yfinance-0.1.77-py2.py3-none-any.whl (28 kB)\n",
            "Requirement already satisfied: multitasking>=0.0.7 in /usr/local/lib/python3.7/dist-packages (from yfinance) (0.0.11)\n",
            "Requirement already satisfied: appdirs>=1.4.4 in /usr/local/lib/python3.7/dist-packages (from yfinance) (1.4.4)\n",
            "Requirement already satisfied: numpy>=1.15 in /usr/local/lib/python3.7/dist-packages (from yfinance) (1.21.6)\n",
            "Collecting requests>=2.26\n",
            "  Downloading requests-2.28.1-py3-none-any.whl (62 kB)\n",
            "\u001b[K     |████████████████████████████████| 62 kB 1.4 MB/s \n",
            "\u001b[?25hRequirement already satisfied: pandas>=0.24.0 in /usr/local/lib/python3.7/dist-packages (from yfinance) (1.3.5)\n",
            "Requirement already satisfied: lxml>=4.5.1 in /usr/local/lib/python3.7/dist-packages (from yfinance) (4.9.1)\n",
            "Requirement already satisfied: python-dateutil>=2.7.3 in /usr/local/lib/python3.7/dist-packages (from pandas>=0.24.0->yfinance) (2.8.2)\n",
            "Requirement already satisfied: pytz>=2017.3 in /usr/local/lib/python3.7/dist-packages (from pandas>=0.24.0->yfinance) (2022.4)\n",
            "Requirement already satisfied: six>=1.5 in /usr/local/lib/python3.7/dist-packages (from python-dateutil>=2.7.3->pandas>=0.24.0->yfinance) (1.15.0)\n",
            "Requirement already satisfied: certifi>=2017.4.17 in /usr/local/lib/python3.7/dist-packages (from requests>=2.26->yfinance) (2022.9.24)\n",
            "Requirement already satisfied: charset-normalizer<3,>=2 in /usr/local/lib/python3.7/dist-packages (from requests>=2.26->yfinance) (2.1.1)\n",
            "Requirement already satisfied: idna<4,>=2.5 in /usr/local/lib/python3.7/dist-packages (from requests>=2.26->yfinance) (2.10)\n",
            "Requirement already satisfied: urllib3<1.27,>=1.21.1 in /usr/local/lib/python3.7/dist-packages (from requests>=2.26->yfinance) (1.24.3)\n",
            "Installing collected packages: requests, yfinance\n",
            "  Attempting uninstall: requests\n",
            "    Found existing installation: requests 2.23.0\n",
            "    Uninstalling requests-2.23.0:\n",
            "      Successfully uninstalled requests-2.23.0\n",
            "Successfully installed requests-2.28.1 yfinance-0.1.77\n"
          ]
        }
      ]
    },
    {
      "cell_type": "code",
      "source": [
        "pip install telebot"
      ],
      "metadata": {
        "colab": {
          "base_uri": "https://localhost:8080/"
        },
        "id": "SLtJktvUgKsw",
        "outputId": "3790ac5b-f5e7-404d-d0b4-b579cf3d1992"
      },
      "execution_count": 5,
      "outputs": [
        {
          "output_type": "stream",
          "name": "stdout",
          "text": [
            "Looking in indexes: https://pypi.org/simple, https://us-python.pkg.dev/colab-wheels/public/simple/\n",
            "Collecting telebot\n",
            "  Downloading telebot-0.0.4-py3-none-any.whl (4.6 kB)\n",
            "Requirement already satisfied: requests in /usr/local/lib/python3.7/dist-packages (from telebot) (2.28.1)\n",
            "Requirement already satisfied: certifi>=2017.4.17 in /usr/local/lib/python3.7/dist-packages (from requests->telebot) (2022.9.24)\n",
            "Requirement already satisfied: idna<4,>=2.5 in /usr/local/lib/python3.7/dist-packages (from requests->telebot) (2.10)\n",
            "Requirement already satisfied: urllib3<1.27,>=1.21.1 in /usr/local/lib/python3.7/dist-packages (from requests->telebot) (1.24.3)\n",
            "Requirement already satisfied: charset-normalizer<3,>=2 in /usr/local/lib/python3.7/dist-packages (from requests->telebot) (2.1.1)\n",
            "Installing collected packages: telebot\n",
            "Successfully installed telebot-0.0.4\n"
          ]
        }
      ]
    },
    {
      "cell_type": "code",
      "source": [
        "import numpy as np\n",
        "import pandas as pd\n",
        "import yfinance as yf\n",
        "import time\n",
        "from os import system\n",
        "from datetime import datetime\n",
        "import requests\n",
        "import telebot\n",
        "from telethon.sync import TelegramClient\n",
        "from telethon.tl.types import InputPeerUser, InputPeerChannel\n",
        "from telethon import TelegramClient, sync, events\n",
        "import io\n",
        "from google.colab import files"
      ],
      "metadata": {
        "id": "sGhQzP-kgMAU"
      },
      "execution_count": 6,
      "outputs": []
    },
    {
      "cell_type": "code",
      "source": [
        "def wat(nam,bpri,dpri,cpri):\n",
        "     itr=0\n",
        "     tex=[]\n",
        "     if (cpri-dpri)/dpri<-0.02 or (cpri-dpri)/dpri>0.02:\n",
        "       itr+=1\n",
        "       per=((cpri-dpri)/dpri)*100.00\n",
        "       tex.append(nam+' for the day is '+str(per))\n",
        "     return(tex)"
      ],
      "metadata": {
        "id": "GMPoRZ2vgZMt"
      },
      "execution_count": 8,
      "outputs": []
    },
    {
      "cell_type": "code",
      "source": [
        "uploaded = files.upload()"
      ],
      "metadata": {
        "colab": {
          "base_uri": "https://localhost:8080/",
          "height": 74
        },
        "id": "VYdLUtoei4nd",
        "outputId": "4c748054-bddb-44eb-f181-19ba3ca2dc57"
      },
      "execution_count": 22,
      "outputs": [
        {
          "output_type": "display_data",
          "data": {
            "text/plain": [
              "<IPython.core.display.HTML object>"
            ],
            "text/html": [
              "\n",
              "     <input type=\"file\" id=\"files-ff03ca48-432b-4258-8eda-9a80c9a59873\" name=\"files[]\" multiple disabled\n",
              "        style=\"border:none\" />\n",
              "     <output id=\"result-ff03ca48-432b-4258-8eda-9a80c9a59873\">\n",
              "      Upload widget is only available when the cell has been executed in the\n",
              "      current browser session. Please rerun this cell to enable.\n",
              "      </output>\n",
              "      <script>// Copyright 2017 Google LLC\n",
              "//\n",
              "// Licensed under the Apache License, Version 2.0 (the \"License\");\n",
              "// you may not use this file except in compliance with the License.\n",
              "// You may obtain a copy of the License at\n",
              "//\n",
              "//      http://www.apache.org/licenses/LICENSE-2.0\n",
              "//\n",
              "// Unless required by applicable law or agreed to in writing, software\n",
              "// distributed under the License is distributed on an \"AS IS\" BASIS,\n",
              "// WITHOUT WARRANTIES OR CONDITIONS OF ANY KIND, either express or implied.\n",
              "// See the License for the specific language governing permissions and\n",
              "// limitations under the License.\n",
              "\n",
              "/**\n",
              " * @fileoverview Helpers for google.colab Python module.\n",
              " */\n",
              "(function(scope) {\n",
              "function span(text, styleAttributes = {}) {\n",
              "  const element = document.createElement('span');\n",
              "  element.textContent = text;\n",
              "  for (const key of Object.keys(styleAttributes)) {\n",
              "    element.style[key] = styleAttributes[key];\n",
              "  }\n",
              "  return element;\n",
              "}\n",
              "\n",
              "// Max number of bytes which will be uploaded at a time.\n",
              "const MAX_PAYLOAD_SIZE = 100 * 1024;\n",
              "\n",
              "function _uploadFiles(inputId, outputId) {\n",
              "  const steps = uploadFilesStep(inputId, outputId);\n",
              "  const outputElement = document.getElementById(outputId);\n",
              "  // Cache steps on the outputElement to make it available for the next call\n",
              "  // to uploadFilesContinue from Python.\n",
              "  outputElement.steps = steps;\n",
              "\n",
              "  return _uploadFilesContinue(outputId);\n",
              "}\n",
              "\n",
              "// This is roughly an async generator (not supported in the browser yet),\n",
              "// where there are multiple asynchronous steps and the Python side is going\n",
              "// to poll for completion of each step.\n",
              "// This uses a Promise to block the python side on completion of each step,\n",
              "// then passes the result of the previous step as the input to the next step.\n",
              "function _uploadFilesContinue(outputId) {\n",
              "  const outputElement = document.getElementById(outputId);\n",
              "  const steps = outputElement.steps;\n",
              "\n",
              "  const next = steps.next(outputElement.lastPromiseValue);\n",
              "  return Promise.resolve(next.value.promise).then((value) => {\n",
              "    // Cache the last promise value to make it available to the next\n",
              "    // step of the generator.\n",
              "    outputElement.lastPromiseValue = value;\n",
              "    return next.value.response;\n",
              "  });\n",
              "}\n",
              "\n",
              "/**\n",
              " * Generator function which is called between each async step of the upload\n",
              " * process.\n",
              " * @param {string} inputId Element ID of the input file picker element.\n",
              " * @param {string} outputId Element ID of the output display.\n",
              " * @return {!Iterable<!Object>} Iterable of next steps.\n",
              " */\n",
              "function* uploadFilesStep(inputId, outputId) {\n",
              "  const inputElement = document.getElementById(inputId);\n",
              "  inputElement.disabled = false;\n",
              "\n",
              "  const outputElement = document.getElementById(outputId);\n",
              "  outputElement.innerHTML = '';\n",
              "\n",
              "  const pickedPromise = new Promise((resolve) => {\n",
              "    inputElement.addEventListener('change', (e) => {\n",
              "      resolve(e.target.files);\n",
              "    });\n",
              "  });\n",
              "\n",
              "  const cancel = document.createElement('button');\n",
              "  inputElement.parentElement.appendChild(cancel);\n",
              "  cancel.textContent = 'Cancel upload';\n",
              "  const cancelPromise = new Promise((resolve) => {\n",
              "    cancel.onclick = () => {\n",
              "      resolve(null);\n",
              "    };\n",
              "  });\n",
              "\n",
              "  // Wait for the user to pick the files.\n",
              "  const files = yield {\n",
              "    promise: Promise.race([pickedPromise, cancelPromise]),\n",
              "    response: {\n",
              "      action: 'starting',\n",
              "    }\n",
              "  };\n",
              "\n",
              "  cancel.remove();\n",
              "\n",
              "  // Disable the input element since further picks are not allowed.\n",
              "  inputElement.disabled = true;\n",
              "\n",
              "  if (!files) {\n",
              "    return {\n",
              "      response: {\n",
              "        action: 'complete',\n",
              "      }\n",
              "    };\n",
              "  }\n",
              "\n",
              "  for (const file of files) {\n",
              "    const li = document.createElement('li');\n",
              "    li.append(span(file.name, {fontWeight: 'bold'}));\n",
              "    li.append(span(\n",
              "        `(${file.type || 'n/a'}) - ${file.size} bytes, ` +\n",
              "        `last modified: ${\n",
              "            file.lastModifiedDate ? file.lastModifiedDate.toLocaleDateString() :\n",
              "                                    'n/a'} - `));\n",
              "    const percent = span('0% done');\n",
              "    li.appendChild(percent);\n",
              "\n",
              "    outputElement.appendChild(li);\n",
              "\n",
              "    const fileDataPromise = new Promise((resolve) => {\n",
              "      const reader = new FileReader();\n",
              "      reader.onload = (e) => {\n",
              "        resolve(e.target.result);\n",
              "      };\n",
              "      reader.readAsArrayBuffer(file);\n",
              "    });\n",
              "    // Wait for the data to be ready.\n",
              "    let fileData = yield {\n",
              "      promise: fileDataPromise,\n",
              "      response: {\n",
              "        action: 'continue',\n",
              "      }\n",
              "    };\n",
              "\n",
              "    // Use a chunked sending to avoid message size limits. See b/62115660.\n",
              "    let position = 0;\n",
              "    do {\n",
              "      const length = Math.min(fileData.byteLength - position, MAX_PAYLOAD_SIZE);\n",
              "      const chunk = new Uint8Array(fileData, position, length);\n",
              "      position += length;\n",
              "\n",
              "      const base64 = btoa(String.fromCharCode.apply(null, chunk));\n",
              "      yield {\n",
              "        response: {\n",
              "          action: 'append',\n",
              "          file: file.name,\n",
              "          data: base64,\n",
              "        },\n",
              "      };\n",
              "\n",
              "      let percentDone = fileData.byteLength === 0 ?\n",
              "          100 :\n",
              "          Math.round((position / fileData.byteLength) * 100);\n",
              "      percent.textContent = `${percentDone}% done`;\n",
              "\n",
              "    } while (position < fileData.byteLength);\n",
              "  }\n",
              "\n",
              "  // All done.\n",
              "  yield {\n",
              "    response: {\n",
              "      action: 'complete',\n",
              "    }\n",
              "  };\n",
              "}\n",
              "\n",
              "scope.google = scope.google || {};\n",
              "scope.google.colab = scope.google.colab || {};\n",
              "scope.google.colab._files = {\n",
              "  _uploadFiles,\n",
              "  _uploadFilesContinue,\n",
              "};\n",
              "})(self);\n",
              "</script> "
            ]
          },
          "metadata": {}
        },
        {
          "output_type": "stream",
          "name": "stdout",
          "text": [
            "Saving Portfolio_shares.csv to Portfolio_shares (1).csv\n"
          ]
        }
      ]
    },
    {
      "cell_type": "code",
      "source": [
        "def job():\n",
        "     flag=0\n",
        "     dat=pd.read_csv(io.BytesIO(uploaded['Portfolio_shares.csv']))\n",
        "     shares=[]\n",
        "     for i in range(0,len(dat)):\n",
        "       data = yf.download(tickers=dat['Share'][i], period='1d', interval='15m')\n",
        "       if(data.empty):\n",
        "         flag+=1\n",
        "         shares.append(dat['Share'][i]+' not traded in session')\n",
        "       else:\n",
        "         b=float(dat['Invested'][i])\n",
        "         d=float(data['Open'][0])\n",
        "         c=float(data['Close'][-1])\n",
        "         shares.append(wat(dat['Share'][i],b,d,c))\n",
        "     test = telegram_bot_sendtext(\"===Portfolio Performance of Day===\")\n",
        "     print(test)\n",
        "     for j in shares:\n",
        "       if len(j)>0:\n",
        "         str=\" \"\n",
        "         test = telegram_bot_sendtext(str.join(j))\n",
        "         print(test)\n",
        "         print('\\n')"
      ],
      "metadata": {
        "id": "z3ro8koBgvmF"
      },
      "execution_count": 23,
      "outputs": []
    },
    {
      "cell_type": "code",
      "source": [
        "def telegram_bot_sendtext(bot_message):\n",
        "     bot_token = '5396286337:AAE5pnZDLEBBcJj28LEsUKVayTJ_bZ_pgU8'\n",
        "     bot_chatID = '5301704062'\n",
        "     send_text = 'https://api.telegram.org/bot' + bot_token + '/sendMessage?chat_id=' + bot_chatID + '&parse_mode=Markdown&text=' + bot_message\n",
        "     response = requests.get(send_text)\n",
        "     return response.json()"
      ],
      "metadata": {
        "id": "yumc04BKhEvM"
      },
      "execution_count": 24,
      "outputs": []
    },
    {
      "cell_type": "code",
      "source": [
        "trade_time=1\n",
        "while trade_time==1:\n",
        "     system('cls')\n",
        "     now=datetime.now()\n",
        "     current_hour = now.strftime(\"%H\")\n",
        "     current_min=now.strftime(\"%M\")\n",
        "     if int(current_hour)<15:\n",
        "       job()\n",
        "     else:\n",
        "       if int(current_hour)==15:\n",
        "        if int(current_min)<=15:\n",
        "           job()\n",
        "        else:\n",
        "           trade_time=0\n",
        "       else:\n",
        "         trade_time=0\n",
        "     time.sleep(900)"
      ],
      "metadata": {
        "colab": {
          "base_uri": "https://localhost:8080/",
          "height": 1000
        },
        "id": "tLG1nBsUhk3w",
        "outputId": "a1e6697e-e129-43c4-959e-d0e7b3abe906"
      },
      "execution_count": 25,
      "outputs": [
        {
          "output_type": "stream",
          "name": "stdout",
          "text": [
            "[*********************100%***********************]  1 of 1 completed\n",
            "[*********************100%***********************]  1 of 1 completed\n",
            "[*********************100%***********************]  1 of 1 completed\n",
            "[*********************100%***********************]  1 of 1 completed\n",
            "[*********************100%***********************]  1 of 1 completed\n",
            "[*********************100%***********************]  1 of 1 completed\n",
            "[*********************100%***********************]  1 of 1 completed\n",
            "[*********************100%***********************]  1 of 1 completed\n",
            "[*********************100%***********************]  1 of 1 completed\n",
            "[*********************100%***********************]  1 of 1 completed\n",
            "[*********************100%***********************]  1 of 1 completed\n",
            "[*********************100%***********************]  1 of 1 completed\n",
            "[*********************100%***********************]  1 of 1 completed\n",
            "[*********************100%***********************]  1 of 1 completed\n",
            "[*********************100%***********************]  1 of 1 completed\n",
            "[*********************100%***********************]  1 of 1 completed\n",
            "[*********************100%***********************]  1 of 1 completed\n",
            "[*********************100%***********************]  1 of 1 completed\n",
            "[*********************100%***********************]  1 of 1 completed\n",
            "[*********************100%***********************]  1 of 1 completed\n",
            "[*********************100%***********************]  1 of 1 completed\n",
            "[*********************100%***********************]  1 of 1 completed\n",
            "[*********************100%***********************]  1 of 1 completed\n",
            "[*********************100%***********************]  1 of 1 completed\n",
            "[*********************100%***********************]  1 of 1 completed\n",
            "[*********************100%***********************]  1 of 1 completed\n",
            "[*********************100%***********************]  1 of 1 completed\n",
            "[*********************100%***********************]  1 of 1 completed\n",
            "[*********************100%***********************]  1 of 1 completed\n",
            "[*********************100%***********************]  1 of 1 completed\n",
            "[*********************100%***********************]  1 of 1 completed\n",
            "[*********************100%***********************]  1 of 1 completed\n",
            "[*********************100%***********************]  1 of 1 completed\n",
            "[*********************100%***********************]  1 of 1 completed\n",
            "[*********************100%***********************]  1 of 1 completed\n",
            "[*********************100%***********************]  1 of 1 completed\n",
            "[*********************100%***********************]  1 of 1 completed\n",
            "[*********************100%***********************]  1 of 1 completed\n",
            "[*********************100%***********************]  1 of 1 completed\n",
            "\n",
            "1 Failed download:\n",
            "- MOTHERSUMI.BO: No data found, symbol may be delisted\n",
            "[*********************100%***********************]  1 of 1 completed\n",
            "[*********************100%***********************]  1 of 1 completed\n",
            "[*********************100%***********************]  1 of 1 completed\n",
            "[*********************100%***********************]  1 of 1 completed\n",
            "[*********************100%***********************]  1 of 1 completed\n",
            "[*********************100%***********************]  1 of 1 completed\n",
            "[*********************100%***********************]  1 of 1 completed\n",
            "[*********************100%***********************]  1 of 1 completed\n",
            "[*********************100%***********************]  1 of 1 completed\n",
            "[*********************100%***********************]  1 of 1 completed\n",
            "[*********************100%***********************]  1 of 1 completed\n",
            "[*********************100%***********************]  1 of 1 completed\n",
            "\n",
            "1 Failed download:\n",
            "- SINTEX.NS: No data found for this date range, symbol may be delisted\n",
            "[*********************100%***********************]  1 of 1 completed\n",
            "[*********************100%***********************]  1 of 1 completed\n",
            "[*********************100%***********************]  1 of 1 completed\n",
            "[*********************100%***********************]  1 of 1 completed\n",
            "[*********************100%***********************]  1 of 1 completed\n",
            "[*********************100%***********************]  1 of 1 completed\n",
            "[*********************100%***********************]  1 of 1 completed\n",
            "[*********************100%***********************]  1 of 1 completed\n",
            "[*********************100%***********************]  1 of 1 completed\n",
            "[*********************100%***********************]  1 of 1 completed\n",
            "[*********************100%***********************]  1 of 1 completed\n",
            "[*********************100%***********************]  1 of 1 completed\n",
            "[*********************100%***********************]  1 of 1 completed\n",
            "[*********************100%***********************]  1 of 1 completed\n",
            "[*********************100%***********************]  1 of 1 completed\n",
            "{'ok': True, 'result': {'message_id': 17846, 'from': {'id': 5396286337, 'is_bot': True, 'first_name': 'Test', 'username': 'Sreshtan_bot'}, 'chat': {'id': 5301704062, 'first_name': 'Vardhan', 'last_name': 'Sri', 'type': 'private'}, 'date': 1665567710, 'text': '===Portfolio Performance of Day==='}}\n",
            "{'ok': True, 'result': {'message_id': 17847, 'from': {'id': 5396286337, 'is_bot': True, 'first_name': 'Test', 'username': 'Sreshtan_bot'}, 'chat': {'id': 5301704062, 'first_name': 'Vardhan', 'last_name': 'Sri', 'type': 'private'}, 'date': 1665567710, 'text': 'ASIANPAINT.NS for the day is -2.245481310898838'}}\n",
            "\n",
            "\n",
            "{'ok': True, 'result': {'message_id': 17848, 'from': {'id': 5396286337, 'is_bot': True, 'first_name': 'Test', 'username': 'Sreshtan_bot'}, 'chat': {'id': 5301704062, 'first_name': 'Vardhan', 'last_name': 'Sri', 'type': 'private'}, 'date': 1665567711, 'text': 'CHOLAFIN.NS for the day is 3.0443505509929225'}}\n",
            "\n",
            "\n",
            "{'ok': True, 'result': {'message_id': 17849, 'from': {'id': 5396286337, 'is_bot': True, 'first_name': 'Test', 'username': 'Sreshtan_bot'}, 'chat': {'id': 5301704062, 'first_name': 'Vardhan', 'last_name': 'Sri', 'type': 'private'}, 'date': 1665567711, 'text': 'CUB.BO for the day is 3.3912574320312445', 'entities': [{'offset': 0, 'length': 6, 'type': 'url'}]}}\n",
            "\n",
            "\n",
            "{'ok': True, 'result': {'message_id': 17850, 'from': {'id': 5396286337, 'is_bot': True, 'first_name': 'Test', 'username': 'Sreshtan_bot'}, 'chat': {'id': 5301704062, 'first_name': 'Vardhan', 'last_name': 'Sri', 'type': 'private'}, 'date': 1665567712, 'text': 'JPASSOCIAT.BO for the day is 3.580784753204491', 'entities': [{'offset': 0, 'length': 13, 'type': 'url'}]}}\n",
            "\n",
            "\n",
            "{'ok': True, 'result': {'message_id': 17851, 'from': {'id': 5396286337, 'is_bot': True, 'first_name': 'Test', 'username': 'Sreshtan_bot'}, 'chat': {'id': 5301704062, 'first_name': 'Vardhan', 'last_name': 'Sri', 'type': 'private'}, 'date': 1665567712, 'text': 'JUBLINDS.NS for the day is -3.6072144288577155'}}\n",
            "\n",
            "\n",
            "{'ok': True, 'result': {'message_id': 17852, 'from': {'id': 5396286337, 'is_bot': True, 'first_name': 'Test', 'username': 'Sreshtan_bot'}, 'chat': {'id': 5301704062, 'first_name': 'Vardhan', 'last_name': 'Sri', 'type': 'private'}, 'date': 1665567713, 'text': 'KALYANKJIL.NS for the day is -2.178312019210924'}}\n",
            "\n",
            "\n",
            "{'ok': True, 'result': {'message_id': 17853, 'from': {'id': 5396286337, 'is_bot': True, 'first_name': 'Test', 'username': 'Sreshtan_bot'}, 'chat': {'id': 5301704062, 'first_name': 'Vardhan', 'last_name': 'Sri', 'type': 'private'}, 'date': 1665567713, 'text': 'LAURUSLABS.NS for the day is -3.1816905666257713'}}\n",
            "\n",
            "\n",
            "{'ok': True, 'result': {'message_id': 17854, 'from': {'id': 5396286337, 'is_bot': True, 'first_name': 'Test', 'username': 'Sreshtan_bot'}, 'chat': {'id': 5301704062, 'first_name': 'Vardhan', 'last_name': 'Sri', 'type': 'private'}, 'date': 1665567714, 'text': 'M'}}\n",
            "\n",
            "\n",
            "{'ok': True, 'result': {'message_id': 17855, 'from': {'id': 5396286337, 'is_bot': True, 'first_name': 'Test', 'username': 'Sreshtan_bot'}, 'chat': {'id': 5301704062, 'first_name': 'Vardhan', 'last_name': 'Sri', 'type': 'private'}, 'date': 1665567715, 'text': 'M O T H E R S U M I . B O   n o t   t r a d e d   i n   s e s s i o n'}}\n",
            "\n",
            "\n",
            "{'ok': True, 'result': {'message_id': 17856, 'from': {'id': 5396286337, 'is_bot': True, 'first_name': 'Test', 'username': 'Sreshtan_bot'}, 'chat': {'id': 5301704062, 'first_name': 'Vardhan', 'last_name': 'Sri', 'type': 'private'}, 'date': 1665567715, 'text': 'NEXTMEDIA.BO for the day is -6.0975595572957255', 'entities': [{'offset': 0, 'length': 12, 'type': 'url'}]}}\n",
            "\n",
            "\n",
            "{'ok': True, 'result': {'message_id': 17857, 'from': {'id': 5396286337, 'is_bot': True, 'first_name': 'Test', 'username': 'Sreshtan_bot'}, 'chat': {'id': 5301704062, 'first_name': 'Vardhan', 'last_name': 'Sri', 'type': 'private'}, 'date': 1665567716, 'text': 'RBLBANK.NS for the day is 2.7777765476837484'}}\n",
            "\n",
            "\n",
            "{'ok': True, 'result': {'message_id': 17858, 'from': {'id': 5396286337, 'is_bot': True, 'first_name': 'Test', 'username': 'Sreshtan_bot'}, 'chat': {'id': 5301704062, 'first_name': 'Vardhan', 'last_name': 'Sri', 'type': 'private'}, 'date': 1665567716, 'text': 'S I N T E X . N S   n o t   t r a d e d   i n   s e s s i o n'}}\n",
            "\n",
            "\n",
            "{'ok': True, 'result': {'message_id': 17859, 'from': {'id': 5396286337, 'is_bot': True, 'first_name': 'Test', 'username': 'Sreshtan_bot'}, 'chat': {'id': 5301704062, 'first_name': 'Vardhan', 'last_name': 'Sri', 'type': 'private'}, 'date': 1665567717, 'text': 'TVSMOTOR.NS for the day is 3.4726887247624703'}}\n",
            "\n",
            "\n",
            "{'ok': True, 'result': {'message_id': 17860, 'from': {'id': 5396286337, 'is_bot': True, 'first_name': 'Test', 'username': 'Sreshtan_bot'}, 'chat': {'id': 5301704062, 'first_name': 'Vardhan', 'last_name': 'Sri', 'type': 'private'}, 'date': 1665567717, 'text': 'TNPL.NS for the day is -3.1961600000816013'}}\n",
            "\n",
            "\n",
            "{'ok': True, 'result': {'message_id': 17861, 'from': {'id': 5396286337, 'is_bot': True, 'first_name': 'Test', 'username': 'Sreshtan_bot'}, 'chat': {'id': 5301704062, 'first_name': 'Vardhan', 'last_name': 'Sri', 'type': 'private'}, 'date': 1665567718, 'text': 'ZOMATO.NS for the day is -2.811553500025161'}}\n",
            "\n",
            "\n"
          ]
        },
        {
          "output_type": "error",
          "ename": "KeyboardInterrupt",
          "evalue": "ignored",
          "traceback": [
            "\u001b[0;31m---------------------------------------------------------------------------\u001b[0m",
            "\u001b[0;31mKeyboardInterrupt\u001b[0m                         Traceback (most recent call last)",
            "\u001b[0;32m<ipython-input-25-f19555655fc7>\u001b[0m in \u001b[0;36m<module>\u001b[0;34m\u001b[0m\n\u001b[1;32m     15\u001b[0m        \u001b[0;32melse\u001b[0m\u001b[0;34m:\u001b[0m\u001b[0;34m\u001b[0m\u001b[0;34m\u001b[0m\u001b[0m\n\u001b[1;32m     16\u001b[0m          \u001b[0mtrade_time\u001b[0m\u001b[0;34m=\u001b[0m\u001b[0;36m0\u001b[0m\u001b[0;34m\u001b[0m\u001b[0;34m\u001b[0m\u001b[0m\n\u001b[0;32m---> 17\u001b[0;31m      \u001b[0mtime\u001b[0m\u001b[0;34m.\u001b[0m\u001b[0msleep\u001b[0m\u001b[0;34m(\u001b[0m\u001b[0;36m900\u001b[0m\u001b[0;34m)\u001b[0m\u001b[0;34m\u001b[0m\u001b[0;34m\u001b[0m\u001b[0m\n\u001b[0m",
            "\u001b[0;31mKeyboardInterrupt\u001b[0m: "
          ]
        }
      ]
    }
  ]
}